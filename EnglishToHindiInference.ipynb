{
 "cells": [
  {
   "cell_type": "code",
   "execution_count": 1,
   "id": "137f3af4",
   "metadata": {},
   "outputs": [],
   "source": [
    "import torch\n",
    "import torch.nn as nn\n",
    "import torch.nn.functional as F\n",
    "import random\n",
    "import pandas as pd"
   ]
  },
  {
   "cell_type": "code",
   "execution_count": 2,
   "id": "5706f034",
   "metadata": {},
   "outputs": [],
   "source": [
    "MAX_LENGTH = 15"
   ]
  },
  {
   "cell_type": "code",
   "execution_count": 3,
   "id": "6ac0ed2d",
   "metadata": {},
   "outputs": [],
   "source": [
    "SOS_token = 0\n",
    "EOS_token = 1\n",
    "\n",
    "\n",
    "class Lang:\n",
    "    '''\n",
    "    class for word object, storing sentences, words and word counts.\n",
    "    '''\n",
    "    def __init__(self, name):\n",
    "        self.name = name\n",
    "        self.word2index = {}\n",
    "        self.word2count = {}\n",
    "        self.index2word = {0: \"SOS\", 1: \"EOS\"}\n",
    "        self.n_words = 2  # Count SOS and EOS\n",
    "\n",
    "    def addSentence(self, sentence):\n",
    "        for word in sentence.split(' '):\n",
    "            self.addWord(word)\n",
    "\n",
    "    def addWord(self, word):\n",
    "        if word not in self.word2index:\n",
    "            self.word2index[word] = self.n_words\n",
    "            self.word2count[word] = 1\n",
    "            self.index2word[self.n_words] = word\n",
    "            self.n_words += 1\n",
    "        else:\n",
    "            self.word2count[word] += 1"
   ]
  },
  {
   "cell_type": "code",
   "execution_count": 4,
   "id": "27095dd6",
   "metadata": {},
   "outputs": [],
   "source": [
    "def indexesFromSentence(lang, sentence):\n",
    "    return [lang.word2index[word] for word in sentence.split(' ')]\n",
    "\n",
    "\n",
    "def tensorFromSentence(lang, sentence,device):\n",
    "    indexes = indexesFromSentence(lang, sentence)\n",
    "    indexes.append(EOS_token)\n",
    "    return torch.tensor(indexes, dtype=torch.long, device=device).view(-1, 1)\n",
    "\n",
    "\n",
    "def tensorsFromPair(pair):\n",
    "    input_tensor = tensorFromSentence(input_lang, pair[0])\n",
    "    target_tensor = tensorFromSentence(output_lang, pair[1])\n",
    "    return (input_tensor, target_tensor)"
   ]
  },
  {
   "cell_type": "code",
   "execution_count": 5,
   "id": "69a59122",
   "metadata": {},
   "outputs": [],
   "source": [
    "def deviceInit():\n",
    "    return torch.device(\"cpu\")"
   ]
  },
  {
   "cell_type": "code",
   "execution_count": 6,
   "id": "f7243226",
   "metadata": {},
   "outputs": [],
   "source": [
    "class EncoderRNN(nn.Module):\n",
    "    def __init__(self, input_size, hidden_size):\n",
    "        super(EncoderRNN, self).__init__()\n",
    "        self.hidden_size = hidden_size\n",
    "\n",
    "        self.embedding = nn.Embedding(input_size, hidden_size)\n",
    "        self.gru = nn.GRU(hidden_size, hidden_size)\n",
    "\n",
    "    def forward(self, input, hidden):\n",
    "        embedded = self.embedding(input).view(1, 1, -1)\n",
    "        output = embedded\n",
    "        output, hidden = self.gru(output, hidden)\n",
    "        return output, hidden\n",
    "\n",
    "    def initHidden(self,device):\n",
    "        return torch.zeros(1, 1, self.hidden_size, device=device)"
   ]
  },
  {
   "cell_type": "code",
   "execution_count": 7,
   "id": "0b74481d",
   "metadata": {},
   "outputs": [],
   "source": [
    "class DecoderRNN(nn.Module):\n",
    "    def __init__(self, hidden_size, output_size):\n",
    "        super(DecoderRNN, self).__init__()\n",
    "        self.hidden_size = hidden_size\n",
    "\n",
    "        self.embedding = nn.Embedding(output_size, hidden_size)\n",
    "        self.gru = nn.GRU(hidden_size, hidden_size)\n",
    "        self.out = nn.Linear(hidden_size, output_size)\n",
    "        self.softmax = nn.LogSoftmax(dim=1)\n",
    "\n",
    "    def forward(self, input, hidden):\n",
    "        output = self.embedding(input).view(1, 1, -1)\n",
    "        output = F.relu(output)\n",
    "        output, hidden = self.gru(output, hidden)\n",
    "        output = self.softmax(self.out(output[0]))\n",
    "        return output, hidden\n",
    "\n",
    "    def initHidden(self,device):\n",
    "        return torch.zeros(1, 1, self.hidden_size, device=device)"
   ]
  },
  {
   "cell_type": "code",
   "execution_count": 8,
   "id": "11385584",
   "metadata": {},
   "outputs": [],
   "source": [
    "class AttnDecoderRNN(nn.Module):\n",
    "    def __init__(self, hidden_size, output_size, dropout_p=0.1, max_length=MAX_LENGTH):\n",
    "        super(AttnDecoderRNN, self).__init__()\n",
    "        self.hidden_size = hidden_size\n",
    "        self.output_size = output_size\n",
    "        self.dropout_p = dropout_p\n",
    "        self.max_length = max_length\n",
    "\n",
    "        self.embedding = nn.Embedding(self.output_size, self.hidden_size)\n",
    "        self.attn = nn.Linear(self.hidden_size * 2, self.max_length)\n",
    "        self.attn_combine = nn.Linear(self.hidden_size * 2, self.hidden_size)\n",
    "        self.dropout = nn.Dropout(self.dropout_p)\n",
    "        self.gru = nn.GRU(self.hidden_size, self.hidden_size)\n",
    "        self.out = nn.Linear(self.hidden_size, self.output_size)\n",
    "\n",
    "    def forward(self, input, hidden, encoder_outputs):\n",
    "        embedded = self.embedding(input).view(1, 1, -1)\n",
    "        embedded = self.dropout(embedded)\n",
    "\n",
    "        attn_weights = F.softmax(\n",
    "            self.attn(torch.cat((embedded[0], hidden[0]), 1)), dim=1)\n",
    "        attn_applied = torch.bmm(attn_weights.unsqueeze(0),\n",
    "                                 encoder_outputs.unsqueeze(0))\n",
    "\n",
    "        output = torch.cat((embedded[0], attn_applied[0]), 1)\n",
    "        output = self.attn_combine(output).unsqueeze(0)\n",
    "\n",
    "        output = F.relu(output)\n",
    "        output, hidden = self.gru(output, hidden)\n",
    "\n",
    "        output = F.log_softmax(self.out(output[0]), dim=1)\n",
    "        return output, hidden, attn_weights\n",
    "\n",
    "    def initHidden(self,device):\n",
    "        return torch.zeros(1, 1, self.hidden_size, device=device)"
   ]
  },
  {
   "cell_type": "code",
   "execution_count": 9,
   "id": "c537af16",
   "metadata": {},
   "outputs": [],
   "source": [
    "def evaluate(encoder, decoder, input_lang,output_lang, sentence, device, max_length=MAX_LENGTH):\n",
    "    with torch.no_grad():\n",
    "        input_tensor = tensorFromSentence(input_lang, sentence,device)\n",
    "        input_length = input_tensor.size()[0]\n",
    "        encoder_hidden = encoder.initHidden(device)\n",
    "\n",
    "        encoder_outputs = torch.zeros(max_length, encoder.hidden_size, device=device)\n",
    "\n",
    "        for ei in range(input_length):\n",
    "            encoder_output, encoder_hidden = encoder(input_tensor[ei],\n",
    "                                                     encoder_hidden)\n",
    "            encoder_outputs[ei] += encoder_output[0, 0]\n",
    "\n",
    "        decoder_input = torch.tensor([[SOS_token]], device=device)  # SOS\n",
    "\n",
    "        decoder_hidden = encoder_hidden\n",
    "\n",
    "        decoded_words = []\n",
    "        decoder_attentions = torch.zeros(max_length, max_length)\n",
    "\n",
    "        for di in range(max_length):\n",
    "            decoder_output, decoder_hidden, decoder_attention = decoder(\n",
    "                decoder_input, decoder_hidden, encoder_outputs)\n",
    "            decoder_attentions[di] = decoder_attention.data\n",
    "            topv, topi = decoder_output.data.topk(1)\n",
    "            if topi.item() == EOS_token:\n",
    "                decoded_words.append('<EOS>')\n",
    "                break\n",
    "            else:\n",
    "                decoded_words.append(output_lang.index2word[topi.item()])\n",
    "\n",
    "            decoder_input = topi.squeeze().detach()\n",
    "\n",
    "        return decoded_words, decoder_attentions[:di + 1]"
   ]
  },
  {
   "cell_type": "code",
   "execution_count": 10,
   "id": "ab61e691",
   "metadata": {},
   "outputs": [],
   "source": [
    "def langInit():\n",
    "    input_lang = Lang('eng')\n",
    "    output_lang = Lang('hin')\n",
    "    return input_lang,output_lang"
   ]
  },
  {
   "cell_type": "code",
   "execution_count": 11,
   "id": "267daff9",
   "metadata": {},
   "outputs": [],
   "source": [
    "def sampleInit():\n",
    "    df = pd.read_csv('InferenceEngHind.csv')\n",
    "    x=df.shape[0]\n",
    "    pairs=[]\n",
    "    for i in range(x):\n",
    "        temp = []\n",
    "        temp.append(str(df.iloc[i,1]))\n",
    "        temp.append(str(df.iloc[i,2]))\n",
    "        pairs.append(temp)\n",
    "    return pairs"
   ]
  },
  {
   "cell_type": "code",
   "execution_count": 12,
   "id": "db408023",
   "metadata": {},
   "outputs": [],
   "source": [
    "def getSamples(input_lang,output_lang,pairs):\n",
    "    for pair in pairs:\n",
    "        input_lang.addSentence(pair[0])\n",
    "        output_lang.addSentence(pair[1])"
   ]
  },
  {
   "cell_type": "code",
   "execution_count": 13,
   "id": "cc9cb9ce",
   "metadata": {},
   "outputs": [],
   "source": [
    "def models_init(input_lang,output_lang,device):\n",
    "    Inwords = input_lang.n_words\n",
    "    Onwords = output_lang.n_words\n",
    "    HIDDEN_SIZE = 512\n",
    "    encoder1 = EncoderRNN(Inwords,HIDDEN_SIZE).to(device)\n",
    "    attn_decoder1 = AttnDecoderRNN(HIDDEN_SIZE, Onwords, dropout_p=0.1).to(device)\n",
    "    weight_path = r'encoderEngHindi.pth'\n",
    "    encoder1.load_state_dict(torch.load(weight_path))\n",
    "    weight_path = r'attndecoderEngHindi.pth'\n",
    "    attn_decoder1.load_state_dict(torch.load(weight_path))\n",
    "    return (encoder1,attn_decoder1)"
   ]
  },
  {
   "cell_type": "code",
   "execution_count": 14,
   "id": "545a2a6e",
   "metadata": {},
   "outputs": [],
   "source": [
    "def evaluateRandomly(encoder, decoder, i, o, device,pairs,n=10):\n",
    "    for t in range(n):\n",
    "        pair = random.choice(pairs)\n",
    "        print('>', pair[0])\n",
    "        print('=', pair[1])\n",
    "        output_words, attentions = evaluate(encoder, decoder, pair[0],device)\n",
    "        output_sentence = ' '.join(output_words)\n",
    "        print('<', output_sentence)\n",
    "        print('')"
   ]
  },
  {
   "cell_type": "code",
   "execution_count": 15,
   "id": "049f9a62",
   "metadata": {},
   "outputs": [],
   "source": [
    "def getevaluateStrings(encoder, decoder,i,o,device,pairs,n=10):\n",
    "    result = {'eng':[],'hin':[],'eval':[]}\n",
    "    for t in range(n):\n",
    "        pair = random.choice(pairs)\n",
    "        output_words, attentions = evaluate(encoder, decoder,i,o,pair[0], device)\n",
    "        output_sentence = ' '.join(output_words)\n",
    "        result['eng'].append(pair[0])\n",
    "        result['hin'].append(pair[1])\n",
    "        result['eval'].append(output_sentence)\n",
    "    return result"
   ]
  },
  {
   "cell_type": "code",
   "execution_count": 16,
   "id": "807bec97",
   "metadata": {},
   "outputs": [],
   "source": [
    "def model_evaluation(encoder,decoder,i,o,device,pairs,n=1):\n",
    "    #evaluateRandomly(encoder,decoder,n)\n",
    "    return getevaluateStrings(encoder,decoder,i,o,device,pairs,n)"
   ]
  },
  {
   "cell_type": "code",
   "execution_count": 17,
   "id": "d6dac013",
   "metadata": {},
   "outputs": [],
   "source": [
    "def inference(n=1):\n",
    "    i,o = langInit()\n",
    "    pairs = sampleInit()\n",
    "    device = deviceInit()\n",
    "    getSamples(i,o,pairs)\n",
    "    encoder,decoder = models_init(i,o,device)\n",
    "    return model_evaluation(encoder,decoder,i,o,device,pairs,n)"
   ]
  },
  {
   "cell_type": "code",
   "execution_count": 18,
   "id": "a61d7843",
   "metadata": {},
   "outputs": [
    {
     "data": {
      "text/plain": [
       "{'eng': ['do you know how much strawberries cost right now ?'],\n",
       " 'hin': ['क्या आप जानते हैं कि अभी स्ट्रॉबेरी की कीमत कितनी है ?'],\n",
       " 'eval': ['क्या आप जानते हैं कि अभी स्ट्रॉबेरी की कीमत कितनी है ? <EOS>']}"
      ]
     },
     "execution_count": 18,
     "metadata": {},
     "output_type": "execute_result"
    }
   ],
   "source": [
    "#enter n\n",
    "n=5\n",
    "inference(5)"
   ]
  },
  {
   "cell_type": "code",
   "execution_count": null,
   "id": "7d8cf921",
   "metadata": {},
   "outputs": [],
   "source": []
  }
 ],
 "metadata": {
  "kernelspec": {
   "display_name": "Python 3 (ipykernel)",
   "language": "python",
   "name": "python3"
  },
  "language_info": {
   "codemirror_mode": {
    "name": "ipython",
    "version": 3
   },
   "file_extension": ".py",
   "mimetype": "text/x-python",
   "name": "python",
   "nbconvert_exporter": "python",
   "pygments_lexer": "ipython3",
   "version": "3.9.7"
  }
 },
 "nbformat": 4,
 "nbformat_minor": 5
}
