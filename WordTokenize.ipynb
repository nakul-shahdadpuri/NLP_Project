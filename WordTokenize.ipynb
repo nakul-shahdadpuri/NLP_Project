{
 "cells": [
  {
   "cell_type": "code",
   "execution_count": 1,
   "id": "5e66c08b",
   "metadata": {},
   "outputs": [],
   "source": [
    "import string,re"
   ]
  },
  {
   "cell_type": "code",
   "execution_count": 2,
   "id": "0a92f588",
   "metadata": {},
   "outputs": [],
   "source": [
    "def getSize(reg,s):\n",
    "    i = 0\n",
    "    for m in reg.finditer(s):\n",
    "        i = i+1\n",
    "    return i"
   ]
  },
  {
   "cell_type": "code",
   "execution_count": 3,
   "id": "c138b696",
   "metadata": {},
   "outputs": [],
   "source": [
    "def wordTokenize(text):\n",
    "    hindi_pat = re.compile(r'(['+string.punctuation+r'\\u0964\\u0965'+r'])')\n",
    "    num_pat = re.compile(r'([0-9]+ [,.:/] )+[0-9]+')\n",
    "    hindi_num_pat = re.compile(r'([\\u0966-\\u096F]+ [,.:/] )+[\\u0966-\\u096F]+',re.UNICODE)\n",
    "    tok_str = hindi_pat.sub(r' \\1',text.replace('\\t',' '))\n",
    "    s=re.sub(r'[ ]+',' ',tok_str).strip(' ')\n",
    "    new_s=''\n",
    "    prev=0\n",
    "    if(getSize(num_pat,s) != 0):\n",
    "        l = num_pat.finditer(s)\n",
    "    else:\n",
    "        l = hindi_num_pat.finditer(s) \n",
    "    for m in l:\n",
    "        start=m.start()\n",
    "        end=m.end()\n",
    "        if start>prev:\n",
    "            new_s=new_s+s[prev:start]\n",
    "            new_s=new_s+s[start:end].replace(' ','')\n",
    "            prev=end\n",
    "    new_s=new_s+s[prev:]\n",
    "    s=new_s\n",
    "    s=s.split(' ')\n",
    "    return s"
   ]
  },
  {
   "cell_type": "code",
   "execution_count": 4,
   "id": "5f452aad",
   "metadata": {},
   "outputs": [],
   "source": [
    "text = \"यह एक परीक्षण नमूना है। यह एक और परीक्षण वाक्य है।\""
   ]
  },
  {
   "cell_type": "code",
   "execution_count": 5,
   "id": "d745cc2a",
   "metadata": {},
   "outputs": [],
   "source": [
    "L = wordTokenize(text)"
   ]
  },
  {
   "cell_type": "code",
   "execution_count": 6,
   "id": "5263347b",
   "metadata": {},
   "outputs": [
    {
     "data": {
      "text/plain": [
       "['यह',\n",
       " 'एक',\n",
       " 'परीक्षण',\n",
       " 'नमूना',\n",
       " 'है',\n",
       " '।',\n",
       " 'यह',\n",
       " 'एक',\n",
       " 'और',\n",
       " 'परीक्षण',\n",
       " 'वाक्य',\n",
       " 'है',\n",
       " '।']"
      ]
     },
     "execution_count": 6,
     "metadata": {},
     "output_type": "execute_result"
    }
   ],
   "source": [
    "L"
   ]
  },
  {
   "cell_type": "code",
   "execution_count": null,
   "id": "16a70085",
   "metadata": {},
   "outputs": [],
   "source": []
  }
 ],
 "metadata": {
  "kernelspec": {
   "display_name": "Python 3 (ipykernel)",
   "language": "python",
   "name": "python3"
  },
  "language_info": {
   "codemirror_mode": {
    "name": "ipython",
    "version": 3
   },
   "file_extension": ".py",
   "mimetype": "text/x-python",
   "name": "python",
   "nbconvert_exporter": "python",
   "pygments_lexer": "ipython3",
   "version": "3.9.7"
  }
 },
 "nbformat": 4,
 "nbformat_minor": 5
}
